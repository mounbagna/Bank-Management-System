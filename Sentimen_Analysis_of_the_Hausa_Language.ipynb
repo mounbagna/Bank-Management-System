{
  "nbformat": 4,
  "nbformat_minor": 0,
  "metadata": {
    "colab": {
      "provenance": [],
      "authorship_tag": "ABX9TyNmJbCHoQKvx/i+1qKTX3do",
      "include_colab_link": true
    },
    "kernelspec": {
      "name": "python3",
      "display_name": "Python 3"
    },
    "language_info": {
      "name": "python"
    }
  },
  "cells": [
    {
      "cell_type": "markdown",
      "metadata": {
        "id": "view-in-github",
        "colab_type": "text"
      },
      "source": [
        "<a href=\"https://colab.research.google.com/github/mounbagna/Bank-Management-System/blob/master/Sentimen_Analysis_of_the_Hausa_Language.ipynb\" target=\"_parent\"><img src=\"https://colab.research.google.com/assets/colab-badge.svg\" alt=\"Open In Colab\"/></a>"
      ]
    },
    {
      "cell_type": "code",
      "source": [
        "!pip install keras"
      ],
      "metadata": {
        "colab": {
          "base_uri": "https://localhost:8080/"
        },
        "id": "bkcJKObwhbTf",
        "outputId": "d1dd6b86-09e3-40e5-b689-f398a034a692"
      },
      "execution_count": 34,
      "outputs": [
        {
          "output_type": "stream",
          "name": "stdout",
          "text": [
            "Requirement already satisfied: keras in /usr/local/lib/python3.10/dist-packages (3.7.0)\n",
            "Requirement already satisfied: absl-py in /usr/local/lib/python3.10/dist-packages (from keras) (1.4.0)\n",
            "Requirement already satisfied: numpy in /usr/local/lib/python3.10/dist-packages (from keras) (1.26.4)\n",
            "Requirement already satisfied: rich in /usr/local/lib/python3.10/dist-packages (from keras) (13.9.4)\n",
            "Requirement already satisfied: namex in /usr/local/lib/python3.10/dist-packages (from keras) (0.0.8)\n",
            "Requirement already satisfied: h5py in /usr/local/lib/python3.10/dist-packages (from keras) (3.12.1)\n",
            "Requirement already satisfied: optree in /usr/local/lib/python3.10/dist-packages (from keras) (0.13.1)\n",
            "Requirement already satisfied: ml-dtypes in /usr/local/lib/python3.10/dist-packages (from keras) (0.4.1)\n",
            "Requirement already satisfied: packaging in /usr/local/lib/python3.10/dist-packages (from keras) (24.2)\n",
            "Requirement already satisfied: typing-extensions>=4.5.0 in /usr/local/lib/python3.10/dist-packages (from optree->keras) (4.12.2)\n",
            "Requirement already satisfied: markdown-it-py>=2.2.0 in /usr/local/lib/python3.10/dist-packages (from rich->keras) (3.0.0)\n",
            "Requirement already satisfied: pygments<3.0.0,>=2.13.0 in /usr/local/lib/python3.10/dist-packages (from rich->keras) (2.18.0)\n",
            "Requirement already satisfied: mdurl~=0.1 in /usr/local/lib/python3.10/dist-packages (from markdown-it-py>=2.2.0->rich->keras) (0.1.2)\n"
          ]
        }
      ]
    },
    {
      "cell_type": "code",
      "execution_count": 36,
      "metadata": {
        "colab": {
          "base_uri": "https://localhost:8080/"
        },
        "id": "HZxozFF8OQyl",
        "outputId": "58e25f60-1460-4246-9c08-02821101b17a"
      },
      "outputs": [
        {
          "output_type": "stream",
          "name": "stderr",
          "text": [
            "[nltk_data] Downloading package punkt to /root/nltk_data...\n",
            "[nltk_data]   Package punkt is already up-to-date!\n"
          ]
        }
      ],
      "source": [
        "import os\n",
        "import pandas as pd\n",
        "import numpy as np\n",
        "import nltk\n",
        "nltk.download('punkt')\n",
        "from nltk.tokenize import word_tokenize\n",
        "from sklearn.model_selection import train_test_split\n",
        "from sklearn.metrics import accuracy_score, precision_score, recall_score, f1_score, confusion_matrix\n",
        "from sklearn.preprocessing import LabelEncoder\n",
        "import seaborn as sns\n",
        "import matplotlib.pyplot as plt\n",
        "from google.colab import files\n",
        "import tensorflow as tf\n",
        "from tensorflow.keras.preprocessing.text import Tokenizer\n",
        "from tensorflow.keras.preprocessing.sequence import pad_sequences\n",
        "from tensorflow.keras.models import Sequential\n",
        "from tensorflow.keras.layers import Embedding, Conv1D, MaxPooling1D, Flatten, Dense"
      ]
    },
    {
      "cell_type": "code",
      "source": [
        "# Define functions for text preprocessing\n",
        "def remove_stopwords(sentence, stopwords):\n",
        "    words = sentence.lower().split()\n",
        "    words = [word for word in words if word not in stopwords]\n",
        "    return \" \".join(words)\n",
        "\n",
        "def tokenize(sentence):\n",
        "    return word_tokenize(sentence)\n",
        "\n",
        "def stem_words(sentence):\n",
        "    # Remove 'r' and 'n' from the end of each word\n",
        "    stemmed_words = [word.rstrip('rn') for word in sentence.lower().split()]\n",
        "    return \" \".join(stemmed_words)\n",
        "\n",
        "def calculate_polarity(sentence, positive_words, negative_words):\n",
        "    polarity = 0\n",
        "    words = tokenize(sentence)\n",
        "\n",
        "    for word in words:\n",
        "        if word in positive_words:\n",
        "            polarity += 1\n",
        "        elif word in negative_words:\n",
        "            polarity -= 1\n",
        "\n",
        "    if polarity > 0:\n",
        "        return \"Positive\"\n",
        "    elif polarity < 0:\n",
        "        return \"Negative\"\n",
        "    else:\n",
        "        return \"Neutral\"\n",
        "\n",
        "# Define a callback to save the best model based on validation accuracy\n",
        "model_checkpoint = tf.keras.callbacks.ModelCheckpoint(\n",
        "    \"best_cnn_model.keras\",\n",
        "    monitor='val_accuracy',\n",
        "    save_best_only=True,\n",
        "    mode='max',\n",
        "    verbose=1\n",
        ")\n",
        "\n",
        "# Define a function to create and train a CNN model\n",
        "def train_cnn_model(X_train, y_train, X_test, y_test, max_words, max_seq_length, num_classes, epochs, callbacks=None):\n",
        "    tokenizer = Tokenizer(num_words=max_words)\n",
        "    tokenizer.fit_on_texts(X_train)\n",
        "    X_train_seq = tokenizer.texts_to_sequences(X_train)\n",
        "    X_test_seq = tokenizer.texts_to_sequences(X_test)\n",
        "\n",
        "    X_train_pad = pad_sequences(X_train_seq, maxlen=max_seq_length)\n",
        "    X_test_pad = pad_sequences(X_test_seq, maxlen=max_seq_length)\n",
        "\n",
        "    model = Sequential()\n",
        "    model.add(Embedding(input_dim=max_words, output_dim=128, input_length=max_seq_length))\n",
        "    model.add(Conv1D(filters=64, kernel_size=3, activation='relu'))\n",
        "    model.add(MaxPooling1D(pool_size=2))\n",
        "    model.add(Flatten())\n",
        "    model.add(Dense(64, activation='relu'))\n",
        "    model.add(Dense(num_classes, activation='softmax'))\n",
        "\n",
        "    model.compile(loss='categorical_crossentropy', optimizer='adam', metrics=['accuracy'])\n",
        "\n",
        "    y_train_encoded = tf.keras.utils.to_categorical(y_train, num_classes)\n",
        "    y_test_encoded = tf.keras.utils.to_categorical(y_test, num_classes)\n",
        "\n",
        "    model.fit(X_train_pad, y_train_encoded, epochs=epochs, validation_data=(X_test_pad, y_test_encoded), callbacks=callbacks)\n",
        "\n",
        "    return model, tokenizer"
      ],
      "metadata": {
        "id": "8VH0lTi8QuRc"
      },
      "execution_count": 35,
      "outputs": []
    },
    {
      "cell_type": "code",
      "source": [
        "sp = \"sentence_polarity\"\n",
        "os.makedirs(sp, exist_ok=True)\n",
        "print(f\"Folder '{sp}' created successfully.\")"
      ],
      "metadata": {
        "colab": {
          "base_uri": "https://localhost:8080/"
        },
        "id": "t_5bLIhyTPK7",
        "outputId": "5ac35a81-5a71-4ca6-82e7-c41efaa5ccb9"
      },
      "execution_count": 23,
      "outputs": [
        {
          "output_type": "stream",
          "name": "stdout",
          "text": [
            "Folder 'sentence_polarity' created successfully.\n"
          ]
        }
      ]
    },
    {
      "cell_type": "code",
      "source": [
        "sw = \"stopwords\"\n",
        "os.makedirs(sw, exist_ok=True)\n",
        "print(f\"Folder '{sw}' created successfully.\")\n"
      ],
      "metadata": {
        "colab": {
          "base_uri": "https://localhost:8080/"
        },
        "id": "2O9NrwiWUgXm",
        "outputId": "5d61e202-bd7d-42d0-cdaf-312a227d927c"
      },
      "execution_count": 24,
      "outputs": [
        {
          "output_type": "stream",
          "name": "stdout",
          "text": [
            "Folder 'stopwords' created successfully.\n"
          ]
        }
      ]
    },
    {
      "cell_type": "code",
      "source": [
        "ol = \"opinion_lexicon\"\n",
        "os.makedirs(ol, exist_ok=True)\n",
        "print(f\"Folder '{ol}' created successfully.\")"
      ],
      "metadata": {
        "colab": {
          "base_uri": "https://localhost:8080/"
        },
        "id": "sCOwvhiPVFHN",
        "outputId": "5b807721-6c0e-4c97-b180-2ea0bf98fd6d"
      },
      "execution_count": 25,
      "outputs": [
        {
          "output_type": "stream",
          "name": "stdout",
          "text": [
            "Folder 'opinion_lexicon' created successfully.\n"
          ]
        }
      ]
    },
    {
      "cell_type": "code",
      "source": [
        "uploaded = files.upload()"
      ],
      "metadata": {
        "colab": {
          "base_uri": "https://localhost:8080/",
          "height": 73
        },
        "id": "NPhLIrwRVzZK",
        "outputId": "8c539396-f3ec-42da-b209-6f8d9e6f6cb4"
      },
      "execution_count": 11,
      "outputs": [
        {
          "output_type": "display_data",
          "data": {
            "text/plain": [
              "<IPython.core.display.HTML object>"
            ],
            "text/html": [
              "\n",
              "     <input type=\"file\" id=\"files-23f45d84-2237-4d5b-978b-fafbad101c80\" name=\"files[]\" multiple disabled\n",
              "        style=\"border:none\" />\n",
              "     <output id=\"result-23f45d84-2237-4d5b-978b-fafbad101c80\">\n",
              "      Upload widget is only available when the cell has been executed in the\n",
              "      current browser session. Please rerun this cell to enable.\n",
              "      </output>\n",
              "      <script>// Copyright 2017 Google LLC\n",
              "//\n",
              "// Licensed under the Apache License, Version 2.0 (the \"License\");\n",
              "// you may not use this file except in compliance with the License.\n",
              "// You may obtain a copy of the License at\n",
              "//\n",
              "//      http://www.apache.org/licenses/LICENSE-2.0\n",
              "//\n",
              "// Unless required by applicable law or agreed to in writing, software\n",
              "// distributed under the License is distributed on an \"AS IS\" BASIS,\n",
              "// WITHOUT WARRANTIES OR CONDITIONS OF ANY KIND, either express or implied.\n",
              "// See the License for the specific language governing permissions and\n",
              "// limitations under the License.\n",
              "\n",
              "/**\n",
              " * @fileoverview Helpers for google.colab Python module.\n",
              " */\n",
              "(function(scope) {\n",
              "function span(text, styleAttributes = {}) {\n",
              "  const element = document.createElement('span');\n",
              "  element.textContent = text;\n",
              "  for (const key of Object.keys(styleAttributes)) {\n",
              "    element.style[key] = styleAttributes[key];\n",
              "  }\n",
              "  return element;\n",
              "}\n",
              "\n",
              "// Max number of bytes which will be uploaded at a time.\n",
              "const MAX_PAYLOAD_SIZE = 100 * 1024;\n",
              "\n",
              "function _uploadFiles(inputId, outputId) {\n",
              "  const steps = uploadFilesStep(inputId, outputId);\n",
              "  const outputElement = document.getElementById(outputId);\n",
              "  // Cache steps on the outputElement to make it available for the next call\n",
              "  // to uploadFilesContinue from Python.\n",
              "  outputElement.steps = steps;\n",
              "\n",
              "  return _uploadFilesContinue(outputId);\n",
              "}\n",
              "\n",
              "// This is roughly an async generator (not supported in the browser yet),\n",
              "// where there are multiple asynchronous steps and the Python side is going\n",
              "// to poll for completion of each step.\n",
              "// This uses a Promise to block the python side on completion of each step,\n",
              "// then passes the result of the previous step as the input to the next step.\n",
              "function _uploadFilesContinue(outputId) {\n",
              "  const outputElement = document.getElementById(outputId);\n",
              "  const steps = outputElement.steps;\n",
              "\n",
              "  const next = steps.next(outputElement.lastPromiseValue);\n",
              "  return Promise.resolve(next.value.promise).then((value) => {\n",
              "    // Cache the last promise value to make it available to the next\n",
              "    // step of the generator.\n",
              "    outputElement.lastPromiseValue = value;\n",
              "    return next.value.response;\n",
              "  });\n",
              "}\n",
              "\n",
              "/**\n",
              " * Generator function which is called between each async step of the upload\n",
              " * process.\n",
              " * @param {string} inputId Element ID of the input file picker element.\n",
              " * @param {string} outputId Element ID of the output display.\n",
              " * @return {!Iterable<!Object>} Iterable of next steps.\n",
              " */\n",
              "function* uploadFilesStep(inputId, outputId) {\n",
              "  const inputElement = document.getElementById(inputId);\n",
              "  inputElement.disabled = false;\n",
              "\n",
              "  const outputElement = document.getElementById(outputId);\n",
              "  outputElement.innerHTML = '';\n",
              "\n",
              "  const pickedPromise = new Promise((resolve) => {\n",
              "    inputElement.addEventListener('change', (e) => {\n",
              "      resolve(e.target.files);\n",
              "    });\n",
              "  });\n",
              "\n",
              "  const cancel = document.createElement('button');\n",
              "  inputElement.parentElement.appendChild(cancel);\n",
              "  cancel.textContent = 'Cancel upload';\n",
              "  const cancelPromise = new Promise((resolve) => {\n",
              "    cancel.onclick = () => {\n",
              "      resolve(null);\n",
              "    };\n",
              "  });\n",
              "\n",
              "  // Wait for the user to pick the files.\n",
              "  const files = yield {\n",
              "    promise: Promise.race([pickedPromise, cancelPromise]),\n",
              "    response: {\n",
              "      action: 'starting',\n",
              "    }\n",
              "  };\n",
              "\n",
              "  cancel.remove();\n",
              "\n",
              "  // Disable the input element since further picks are not allowed.\n",
              "  inputElement.disabled = true;\n",
              "\n",
              "  if (!files) {\n",
              "    return {\n",
              "      response: {\n",
              "        action: 'complete',\n",
              "      }\n",
              "    };\n",
              "  }\n",
              "\n",
              "  for (const file of files) {\n",
              "    const li = document.createElement('li');\n",
              "    li.append(span(file.name, {fontWeight: 'bold'}));\n",
              "    li.append(span(\n",
              "        `(${file.type || 'n/a'}) - ${file.size} bytes, ` +\n",
              "        `last modified: ${\n",
              "            file.lastModifiedDate ? file.lastModifiedDate.toLocaleDateString() :\n",
              "                                    'n/a'} - `));\n",
              "    const percent = span('0% done');\n",
              "    li.appendChild(percent);\n",
              "\n",
              "    outputElement.appendChild(li);\n",
              "\n",
              "    const fileDataPromise = new Promise((resolve) => {\n",
              "      const reader = new FileReader();\n",
              "      reader.onload = (e) => {\n",
              "        resolve(e.target.result);\n",
              "      };\n",
              "      reader.readAsArrayBuffer(file);\n",
              "    });\n",
              "    // Wait for the data to be ready.\n",
              "    let fileData = yield {\n",
              "      promise: fileDataPromise,\n",
              "      response: {\n",
              "        action: 'continue',\n",
              "      }\n",
              "    };\n",
              "\n",
              "    // Use a chunked sending to avoid message size limits. See b/62115660.\n",
              "    let position = 0;\n",
              "    do {\n",
              "      const length = Math.min(fileData.byteLength - position, MAX_PAYLOAD_SIZE);\n",
              "      const chunk = new Uint8Array(fileData, position, length);\n",
              "      position += length;\n",
              "\n",
              "      const base64 = btoa(String.fromCharCode.apply(null, chunk));\n",
              "      yield {\n",
              "        response: {\n",
              "          action: 'append',\n",
              "          file: file.name,\n",
              "          data: base64,\n",
              "        },\n",
              "      };\n",
              "\n",
              "      let percentDone = fileData.byteLength === 0 ?\n",
              "          100 :\n",
              "          Math.round((position / fileData.byteLength) * 100);\n",
              "      percent.textContent = `${percentDone}% done`;\n",
              "\n",
              "    } while (position < fileData.byteLength);\n",
              "  }\n",
              "\n",
              "  // All done.\n",
              "  yield {\n",
              "    response: {\n",
              "      action: 'complete',\n",
              "    }\n",
              "  };\n",
              "}\n",
              "\n",
              "scope.google = scope.google || {};\n",
              "scope.google.colab = scope.google.colab || {};\n",
              "scope.google.colab._files = {\n",
              "  _uploadFiles,\n",
              "  _uploadFilesContinue,\n",
              "};\n",
              "})(self);\n",
              "</script> "
            ]
          },
          "metadata": {}
        },
        {
          "output_type": "stream",
          "name": "stdout",
          "text": [
            "Saving StopWords-HA.txt to StopWords-HA.txt\n"
          ]
        }
      ]
    },
    {
      "cell_type": "code",
      "source": [
        "with open(\"./sentence_polarity/positive-words-HA.txt\", \"r\") as file:\n",
        "    positive_words = file.read().splitlines()\n",
        "\n",
        "with open(\"./sentence_polarity/negative-words-HA.txt\", \"r\") as file:\n",
        "    negative_words = file.read().splitlines()\n",
        "\n",
        "with open(\"./stopwords/StopWords-HA.txt\", \"r\") as file:\n",
        "    stopwords = file.read().splitlines()\n",
        "\n",
        "# Read positive dataset into a DataFrame\n",
        "with open('./opinion_lexicon/polarity-positive-HA.txt', 'r') as file:\n",
        "    positive_data = [{'sentence': line.strip(), 'polarity': 'Positive'} for line in file]\n",
        "\n",
        "positive_df = pd.DataFrame(positive_data)\n",
        "\n",
        "# Read neutral dataset into a DataFrame\n",
        "with open('./opinion_lexicon/polarity-neutral-HA.txt', 'r') as file:\n",
        "    neutral_data = [{'sentence': line.strip(), 'polarity': 'Neutral'} for line in file]\n",
        "\n",
        "neutral_df = pd.DataFrame(neutral_data)\n",
        "\n",
        "# Read negative dataset into a DataFrame\n",
        "with open('./opinion_lexicon/polarity-negative-HA.txt', 'r') as file:\n",
        "    negative_data = [{'sentence': line.strip(), 'polarity': 'Negative'} for line in file]\n",
        "\n",
        "negative_df = pd.DataFrame(negative_data)"
      ],
      "metadata": {
        "id": "1T4EWVJvQ5cl"
      },
      "execution_count": 17,
      "outputs": []
    },
    {
      "cell_type": "code",
      "source": [
        "# Calculate the total number of sentences in each dataset\n",
        "total_positive_sentences = len(positive_data)\n",
        "total_neutral_sentences = len(neutral_data)  # Get the number of rows (sentences)\n",
        "total_negative_sentences = len(negative_data)  # Get the number of rows (sentences)\n",
        "\n",
        "# Print the total number of sentences in each dataset\n",
        "print(f\"Total sentences in positive polarity dataset: {total_positive_sentences}\")\n",
        "print(f\"Total sentences in neutral polarity dataset: {total_neutral_sentences}\")\n",
        "print(f\"Total sentences in negative polarity dataset: {total_negative_sentences}\")"
      ],
      "metadata": {
        "colab": {
          "base_uri": "https://localhost:8080/"
        },
        "id": "Vt9UmE12qMfK",
        "outputId": "1118a9df-7e64-4e9c-be5c-b0e897511278"
      },
      "execution_count": 37,
      "outputs": [
        {
          "output_type": "stream",
          "name": "stdout",
          "text": [
            "Total sentences in positive polarity dataset: 5331\n",
            "Total sentences in neutral polarity dataset: 5331\n",
            "Total sentences in negative polarity dataset: 5331\n"
          ]
        }
      ]
    },
    {
      "cell_type": "code",
      "source": [
        "# Concatenate the DataFrames into a single DataFrame\n",
        "merged_dataset = pd.concat([positive_df, neutral_df, negative_df], ignore_index=True)\n",
        "total_dataset = len(merged_dataset)\n",
        "print(f\"Total sentences in the merged dataset: {total_dataset}\")\n",
        "\n",
        "# Read and process data into a DataFrame\n",
        "data = []\n",
        "for sentence, polarity in zip(merged_dataset['sentence'], merged_dataset['polarity']):\n",
        "    cleaned_sentence = remove_stopwords(sentence, stopwords)\n",
        "    # Strip any leading or trailing white spaces or newlines from the polarity value\n",
        "    polarity = polarity.strip()\n",
        "    data.append({'sentence': sentence, 'cleaned_sentence': cleaned_sentence, 'polarity': polarity})\n",
        "\n",
        "processed_df = pd.DataFrame(data)"
      ],
      "metadata": {
        "colab": {
          "base_uri": "https://localhost:8080/"
        },
        "id": "YBINjmqIaaaw",
        "outputId": "4387c12b-041c-4859-bc31-9b743c7c85d1"
      },
      "execution_count": 19,
      "outputs": [
        {
          "output_type": "stream",
          "name": "stdout",
          "text": [
            "Total sentences in the merged dataset: 15993\n"
          ]
        }
      ]
    },
    {
      "cell_type": "code",
      "source": [
        "# Calculate metrics using ground truth from the merged DataFrame\n",
        "accuracy = accuracy_score(processed_df['polarity'], merged_dataset['polarity'])\n",
        "precision = precision_score(processed_df['polarity'], merged_dataset['polarity'], average='weighted')\n",
        "recall = recall_score(processed_df['polarity'], merged_dataset['polarity'], average='weighted')\n",
        "f1 = f1_score(processed_df['polarity'], merged_dataset['polarity'], average='weighted')\n",
        "\n",
        "print(\"********************Polarity Lexicon Results************************************************\")\n",
        "print(f\"Accuracy: {accuracy}\")\n",
        "print(f\"Precision: {precision}\")\n",
        "print(f\"Recall: {recall}\")\n",
        "print(f\"F1 Score: {f1}\")\n",
        "\n"
      ],
      "metadata": {
        "colab": {
          "base_uri": "https://localhost:8080/"
        },
        "id": "AAnPZPXmqaL1",
        "outputId": "336b8962-2002-4bdc-a027-8e665ef69484"
      },
      "execution_count": 38,
      "outputs": [
        {
          "output_type": "stream",
          "name": "stdout",
          "text": [
            "********************Polarity Lexicon Results************************************************\n",
            "Accuracy: 1.0\n",
            "Precision: 1.0\n",
            "Recall: 1.0\n",
            "F1 Score: 1.0\n"
          ]
        }
      ]
    },
    {
      "cell_type": "code",
      "source": [
        "# Calculate and print the confusion matrix\n",
        "conf_matrix = confusion_matrix(processed_df['polarity'], merged_dataset['polarity'])\n",
        "print(\"Confusion Matrix:\")\n",
        "print(conf_matrix)\n",
        "\n"
      ],
      "metadata": {
        "colab": {
          "base_uri": "https://localhost:8080/"
        },
        "id": "v_ahqf7Vqg0X",
        "outputId": "1559b27a-a1d9-47f2-e792-d3fdd362d8f3"
      },
      "execution_count": 39,
      "outputs": [
        {
          "output_type": "stream",
          "name": "stdout",
          "text": [
            "Confusion Matrix:\n",
            "[[5331    0    0]\n",
            " [   0 5331    0]\n",
            " [   0    0 5331]]\n"
          ]
        }
      ]
    },
    {
      "cell_type": "code",
      "source": [
        "# Create a heatmap for the confusion matrix\n",
        "plt.figure(figsize=(8, 6))\n",
        "sns.heatmap(conf_matrix, annot=True, fmt='d', cmap='Blues', xticklabels=['Negative', 'Neutral', 'Positive'], yticklabels=['Negative', 'Neutral', 'Positive'])\n",
        "plt.xlabel('Predicted')\n",
        "plt.ylabel('Actual')\n",
        "plt.title('Confusion Matrix')\n",
        "plt.savefig('bow_stemmed_confusion_matrix.png')  # Save the figure as an image\n",
        "plt.show()"
      ],
      "metadata": {
        "colab": {
          "base_uri": "https://localhost:8080/",
          "height": 564
        },
        "id": "Y4zAKY2zqkVt",
        "outputId": "9be0871d-c679-4cfb-b15b-16731e7eb3ab"
      },
      "execution_count": 40,
      "outputs": [
        {
          "output_type": "display_data",
          "data": {
            "text/plain": [
              "<Figure size 800x600 with 2 Axes>"
            ],
            "image/png": "[encoded data removed]"
          },
          "metadata": {}
        }
      ]
    },
    {
      "cell_type": "code",
      "source": [
        "# Define the desired percentage of each class in the test set\n",
        "test_set_percentage = 0.2  # 20% of each class\n",
        "\n",
        "# Separate the data by polarity\n",
        "positive_samples = processed_df[processed_df['polarity'] == 'Positive']\n",
        "neutral_samples = processed_df[processed_df['polarity'] == 'Neutral']\n",
        "negative_samples = processed_df[processed_df['polarity'] == 'Negative']\n",
        "\n",
        "# Split each class into train and test sets\n",
        "positive_train, positive_test = train_test_split(positive_samples, test_size=test_set_percentage, random_state=42)\n",
        "neutral_train, neutral_test = train_test_split(neutral_samples, test_size=test_set_percentage, random_state=42)\n",
        "negative_train, negative_test = train_test_split(negative_samples, test_size=test_set_percentage, random_state=42)\n",
        "\n",
        "# Concatenate the train and test sets for each class\n",
        "X_train = pd.concat([positive_train['cleaned_sentence'], neutral_train['cleaned_sentence'], negative_train['cleaned_sentence']], ignore_index=True)\n",
        "y_train = pd.concat([positive_train['polarity'], neutral_train['polarity'], negative_train['polarity']], ignore_index=True)\n",
        "X_test = pd.concat([positive_test['cleaned_sentence'], neutral_test['cleaned_sentence'], negative_test['cleaned_sentence']], ignore_index=True)\n",
        "y_test = pd.concat([positive_test['polarity'], neutral_test['polarity'], negative_test['polarity']], ignore_index=True)\n",
        "\n",
        "print(\"Number of Neutral Test Samples:\", len(neutral_test))\n",
        "print(\"Number of Positive Test Samples:\", len(positive_test))\n",
        "print(\"Number of Negative Test Samples:\", len(negative_test))\n",
        "\n",
        "# Parameters for the CNN model\n",
        "max_words = 10000  # Maximum number of words to keep\n",
        "max_seq_length = 100  # Maximum sequence length (pad or truncate to this length)\n",
        "num_classes = 3  # Number of classes (Negative, Neutral, Positive)\n",
        "epochs = 10  # Number of training epochs\n",
        "\n",
        "label_encoder = LabelEncoder()\n",
        "\n",
        "# Ensure that labels are in string format\n",
        "y_train = y_train.astype(str)\n",
        "y_test = y_test.astype(str)\n",
        "\n",
        "# Map label strings to integers\n",
        "y_train_encoded = label_encoder.fit_transform(y_train)\n",
        "y_test_encoded = label_encoder.transform(y_test)\n",
        "\n",
        "# Number of runs\n",
        "num_runs = 1\n",
        "evaluation_metrics = {\n",
        "    'accuracy': [],\n",
        "    'precision': [],\n",
        "    'recall': [],\n",
        "    'f1': []\n",
        "}\n",
        "\n",
        "for i in range(num_runs):\n",
        "    # Train the CNN model with the callback\n",
        "    cnn_model, tokenizer = train_cnn_model(X_train, y_train_encoded, X_test, y_test_encoded, max_words, max_seq_length, num_classes, epochs, callbacks=[model_checkpoint])\n",
        "\n",
        "    # Load the best CNN model\n",
        "    best_cnn_model = tf.keras.models.load_model(\"best_cnn_model.keras\")\n",
        "\n",
        "    # Tokenize and pad the test data for prediction\n",
        "    X_test_seq = tokenizer.texts_to_sequences(X_test)\n",
        "    X_test_pad = pad_sequences(X_test_seq, maxlen=max_seq_length)\n",
        "    X_test_pad = X_test_pad.astype(np.float32)\n",
        "\n",
        "    # Make predictions\n",
        "    y_pred_prob = cnn_model.predict(X_test_pad)\n",
        "    y_pred = np.argmax(y_pred_prob, axis=1)\n",
        "\n",
        "    # Calculate evaluation metrics and append to the list\n",
        "    accuracy = accuracy_score(y_test_encoded, y_pred)\n",
        "    precision = precision_score(y_test_encoded, y_pred, average='weighted')\n",
        "    recall = recall_score(y_test_encoded, y_pred, average='weighted')\n",
        "    f1 = f1_score(y_test_encoded, y_pred, average='weighted')\n",
        "\n",
        "    evaluation_metrics['accuracy'].append(accuracy)\n",
        "    evaluation_metrics['precision'].append(precision)\n",
        "    evaluation_metrics['recall'].append(recall)\n",
        "    evaluation_metrics['f1'].append(f1)\n",
        "\n",
        "    print(f\"Run {i + 1}: Accuracy: {accuracy}, Precision: {precision}, Recall: {recall}, F1 Score: {f1}\")\n",
        "\n",
        "\n",
        "\n"
      ],
      "metadata": {
        "colab": {
          "base_uri": "https://localhost:8080/"
        },
        "id": "elN5rFpNkZLK",
        "outputId": "670fc501-1e11-49ff-c05c-f6fc38602f6e"
      },
      "execution_count": 22,
      "outputs": [
        {
          "output_type": "stream",
          "name": "stdout",
          "text": [
            "Number of Neutral Test Samples: 1067\n",
            "Number of Positive Test Samples: 1067\n",
            "Number of Negative Test Samples: 1067\n",
            "Epoch 1/10\n"
          ]
        },
        {
          "output_type": "stream",
          "name": "stderr",
          "text": [
            "/usr/local/lib/python3.10/dist-packages/keras/src/layers/core/embedding.py:90: UserWarning: Argument `input_length` is deprecated. Just remove it.\n",
            "  warnings.warn(\n"
          ]
        },
        {
          "output_type": "stream",
          "name": "stdout",
          "text": [
            "\u001b[1m399/400\u001b[0m \u001b[32m━━━━━━━━━━━━━━━━━━━\u001b[0m\u001b[37m━\u001b[0m \u001b[1m0s\u001b[0m 39ms/step - accuracy: 0.5867 - loss: 0.7842\n",
            "Epoch 1: val_accuracy did not improve from 0.72196\n",
            "\u001b[1m400/400\u001b[0m \u001b[32m━━━━━━━━━━━━━━━━━━━━\u001b[0m\u001b[37m\u001b[0m \u001b[1m19s\u001b[0m 43ms/step - accuracy: 0.5870 - loss: 0.7839 - val_accuracy: 0.6954 - val_loss: 0.6380\n",
            "Epoch 2/10\n",
            "\u001b[1m400/400\u001b[0m \u001b[32m━━━━━━━━━━━━━━━━━━━━\u001b[0m\u001b[37m\u001b[0m \u001b[1m0s\u001b[0m 40ms/step - accuracy: 0.7801 - loss: 0.5055\n",
            "Epoch 2: val_accuracy did not improve from 0.72196\n",
            "\u001b[1m400/400\u001b[0m \u001b[32m━━━━━━━━━━━━━━━━━━━━\u001b[0m\u001b[37m\u001b[0m \u001b[1m17s\u001b[0m 43ms/step - accuracy: 0.7801 - loss: 0.5055 - val_accuracy: 0.7135 - val_loss: 0.6333\n",
            "Epoch 3/10\n",
            "\u001b[1m399/400\u001b[0m \u001b[32m━━━━━━━━━━━━━━━━━━━\u001b[0m\u001b[37m━\u001b[0m \u001b[1m0s\u001b[0m 40ms/step - accuracy: 0.9003 - loss: 0.2751\n",
            "Epoch 3: val_accuracy did not improve from 0.72196\n",
            "\u001b[1m400/400\u001b[0m \u001b[32m━━━━━━━━━━━━━━━━━━━━\u001b[0m\u001b[37m\u001b[0m \u001b[1m21s\u001b[0m 43ms/step - accuracy: 0.9002 - loss: 0.2751 - val_accuracy: 0.7010 - val_loss: 0.7669\n",
            "Epoch 4/10\n",
            "\u001b[1m399/400\u001b[0m \u001b[32m━━━━━━━━━━━━━━━━━━━\u001b[0m\u001b[37m━\u001b[0m \u001b[1m0s\u001b[0m 39ms/step - accuracy: 0.9653 - loss: 0.1111\n",
            "Epoch 4: val_accuracy did not improve from 0.72196\n",
            "\u001b[1m400/400\u001b[0m \u001b[32m━━━━━━━━━━━━━━━━━━━━\u001b[0m\u001b[37m\u001b[0m \u001b[1m20s\u001b[0m 42ms/step - accuracy: 0.9653 - loss: 0.1111 - val_accuracy: 0.6910 - val_loss: 1.0062\n",
            "Epoch 5/10\n",
            "\u001b[1m399/400\u001b[0m \u001b[32m━━━━━━━━━━━━━━━━━━━\u001b[0m\u001b[37m━\u001b[0m \u001b[1m0s\u001b[0m 39ms/step - accuracy: 0.9847 - loss: 0.0534\n",
            "Epoch 5: val_accuracy did not improve from 0.72196\n",
            "\u001b[1m400/400\u001b[0m \u001b[32m━━━━━━━━━━━━━━━━━━━━\u001b[0m\u001b[37m\u001b[0m \u001b[1m21s\u001b[0m 43ms/step - accuracy: 0.9847 - loss: 0.0534 - val_accuracy: 0.6926 - val_loss: 1.1999\n",
            "Epoch 6/10\n",
            "\u001b[1m399/400\u001b[0m \u001b[32m━━━━━━━━━━━━━━━━━━━\u001b[0m\u001b[37m━\u001b[0m \u001b[1m0s\u001b[0m 46ms/step - accuracy: 0.9913 - loss: 0.0324\n",
            "Epoch 6: val_accuracy did not improve from 0.72196\n",
            "\u001b[1m400/400\u001b[0m \u001b[32m━━━━━━━━━━━━━━━━━━━━\u001b[0m\u001b[37m\u001b[0m \u001b[1m23s\u001b[0m 50ms/step - accuracy: 0.9913 - loss: 0.0324 - val_accuracy: 0.6913 - val_loss: 1.3466\n",
            "Epoch 7/10\n",
            "\u001b[1m400/400\u001b[0m \u001b[32m━━━━━━━━━━━━━━━━━━━━\u001b[0m\u001b[37m\u001b[0m \u001b[1m0s\u001b[0m 39ms/step - accuracy: 0.9935 - loss: 0.0208\n",
            "Epoch 7: val_accuracy did not improve from 0.72196\n",
            "\u001b[1m400/400\u001b[0m \u001b[32m━━━━━━━━━━━━━━━━━━━━\u001b[0m\u001b[37m\u001b[0m \u001b[1m17s\u001b[0m 43ms/step - accuracy: 0.9935 - loss: 0.0208 - val_accuracy: 0.6888 - val_loss: 1.4319\n",
            "Epoch 8/10\n",
            "\u001b[1m400/400\u001b[0m \u001b[32m━━━━━━━━━━━━━━━━━━━━\u001b[0m\u001b[37m\u001b[0m \u001b[1m0s\u001b[0m 39ms/step - accuracy: 0.9944 - loss: 0.0208\n",
            "Epoch 8: val_accuracy did not improve from 0.72196\n",
            "\u001b[1m400/400\u001b[0m \u001b[32m━━━━━━━━━━━━━━━━━━━━\u001b[0m\u001b[37m\u001b[0m \u001b[1m21s\u001b[0m 43ms/step - accuracy: 0.9944 - loss: 0.0208 - val_accuracy: 0.6751 - val_loss: 1.5845\n",
            "Epoch 9/10\n",
            "\u001b[1m399/400\u001b[0m \u001b[32m━━━━━━━━━━━━━━━━━━━\u001b[0m\u001b[37m━\u001b[0m \u001b[1m0s\u001b[0m 39ms/step - accuracy: 0.9951 - loss: 0.0170\n",
            "Epoch 9: val_accuracy did not improve from 0.72196\n",
            "\u001b[1m400/400\u001b[0m \u001b[32m━━━━━━━━━━━━━━━━━━━━\u001b[0m\u001b[37m\u001b[0m \u001b[1m19s\u001b[0m 40ms/step - accuracy: 0.9951 - loss: 0.0171 - val_accuracy: 0.6832 - val_loss: 1.6655\n",
            "Epoch 10/10\n",
            "\u001b[1m400/400\u001b[0m \u001b[32m━━━━━━━━━━━━━━━━━━━━\u001b[0m\u001b[37m\u001b[0m \u001b[1m0s\u001b[0m 38ms/step - accuracy: 0.9954 - loss: 0.0155\n",
            "Epoch 10: val_accuracy did not improve from 0.72196\n",
            "\u001b[1m400/400\u001b[0m \u001b[32m━━━━━━━━━━━━━━━━━━━━\u001b[0m\u001b[37m\u001b[0m \u001b[1m21s\u001b[0m 42ms/step - accuracy: 0.9954 - loss: 0.0156 - val_accuracy: 0.6882 - val_loss: 1.8401\n",
            "\u001b[1m101/101\u001b[0m \u001b[32m━━━━━━━━━━━━━━━━━━━━\u001b[0m\u001b[37m\u001b[0m \u001b[1m1s\u001b[0m 7ms/step\n",
            "Run 1: Accuracy: 0.6882224304904717, Precision: 0.6874504587171584, Recall: 0.6882224304904717, F1 Score: 0.6877562274645955\n"
          ]
        }
      ]
    },
    {
      "cell_type": "code",
      "source": [
        "# Save performance metrics to a CSV file\n",
        "performance_df = pd.DataFrame(evaluation_metrics)\n",
        "performance_df.to_csv('cnn_performance.csv', index=False)"
      ],
      "metadata": {
        "id": "E-ZHZvzOn30e"
      },
      "execution_count": 25,
      "outputs": []
    },
    {
      "cell_type": "code",
      "source": [
        "# Calculate mean and standard deviation of evaluation metrics\n",
        "mean_metrics = {metric: np.mean(values) for metric, values in evaluation_metrics.items()}\n",
        "std_metrics = {metric: np.std(values) for metric, values in evaluation_metrics.items()}\n",
        "\n",
        "print(f\"\\nResults over {num_runs} runs:\")\n",
        "for metric in evaluation_metrics.keys():\n",
        "    print(f\"Mean {metric.capitalize()}: {mean_metrics[metric]} +- {std_metrics[metric]}\")"
      ],
      "metadata": {
        "colab": {
          "base_uri": "https://localhost:8080/"
        },
        "id": "oxhZDtJIhsVG",
        "outputId": "47dc96d3-bcc1-42a0-c31b-e3516768d31c"
      },
      "execution_count": 28,
      "outputs": [
        {
          "output_type": "stream",
          "name": "stdout",
          "text": [
            "\n",
            "Results over 1 runs:\n",
            "Mean Accuracy: 0.6882224304904717 +- 0.0\n",
            "Mean Precision: 0.6874504587171584 +- 0.0\n",
            "Mean Recall: 0.6882224304904717 +- 0.0\n",
            "Mean F1: 0.6877562274645955 +- 0.0\n"
          ]
        }
      ]
    },
    {
      "cell_type": "code",
      "source": [
        "# Load the best CNN model\n",
        "best_cnn_model = tf.keras.models.load_model(\"best_cnn_model.keras\")\n",
        "\n"
      ],
      "metadata": {
        "id": "uRx74Dsin5FT"
      },
      "execution_count": 29,
      "outputs": []
    },
    {
      "cell_type": "code",
      "source": [
        "# Make predictions\n",
        "y_pred_prob = best_cnn_model.predict(X_test_pad)\n",
        "y_pred = np.argmax(y_pred_prob, axis=1)\n",
        "\n"
      ],
      "metadata": {
        "id": "dPuftcCsoCTN",
        "colab": {
          "base_uri": "https://localhost:8080/"
        },
        "outputId": "fb95f463-34c0-4abe-dbb3-e6cc598b1bdf"
      },
      "execution_count": 30,
      "outputs": [
        {
          "output_type": "stream",
          "name": "stdout",
          "text": [
            "\u001b[1m101/101\u001b[0m \u001b[32m━━━━━━━━━━━━━━━━━━━━\u001b[0m\u001b[37m\u001b[0m \u001b[1m1s\u001b[0m 12ms/step\n"
          ]
        }
      ]
    },
    {
      "cell_type": "code",
      "source": [
        "# Calculate and print the confusion matrix\n",
        "conf_matrix = confusion_matrix(y_test_encoded, y_pred)\n",
        "print(\"Confusion Matrix:\")\n",
        "print(conf_matrix)\n",
        "\n"
      ],
      "metadata": {
        "id": "DwTSd7ajoFQP",
        "colab": {
          "base_uri": "https://localhost:8080/"
        },
        "outputId": "cc2ccfa9-0403-4c33-f4a9-cf1c43872197"
      },
      "execution_count": 31,
      "outputs": [
        {
          "output_type": "stream",
          "name": "stdout",
          "text": [
            "Confusion Matrix:\n",
            "[[666  81 320]\n",
            " [ 84 923  60]\n",
            " [289  56 722]]\n"
          ]
        }
      ]
    },
    {
      "cell_type": "code",
      "source": [
        "# Create a heatmap for the confusion matrix\n",
        "plt.figure(figsize=(8, 6))\n",
        "sns.heatmap(conf_matrix, annot=True, fmt='d', cmap='Blues', xticklabels=['Negative', 'Neutral', 'Positive'], yticklabels=['Negative', 'Neutral', 'Positive'])\n",
        "plt.xlabel('Predicted')\n",
        "plt.ylabel('Actual')\n",
        "#plt.title('Confusion Matrix')\n",
        "plt.savefig('cnn_confusion_matrix.png')  # Save the figure as an image\n",
        "plt.show()"
      ],
      "metadata": {
        "id": "5--a_GIJoKRZ",
        "colab": {
          "base_uri": "https://localhost:8080/",
          "height": 542
        },
        "outputId": "238dc6a6-99b4-4743-f3a4-e369eb503a1f"
      },
      "execution_count": 32,
      "outputs": [
        {
          "output_type": "display_data",
          "data": {
            "text/plain": [
              "<Figure size 800x600 with 2 Axes>"
            ],
            "image/png": "[encoded data removed]"
          },
          "metadata": {}
        }
      ]
    }
  ]
}